{
 "cells": [
  {
   "cell_type": "code",
   "execution_count": 1,
   "id": "baa624e0",
   "metadata": {},
   "outputs": [],
   "source": [
    "from docling.document_converter import DocumentConverter"
   ]
  },
  {
   "cell_type": "code",
   "execution_count": 2,
   "id": "9647c87a",
   "metadata": {},
   "outputs": [],
   "source": [
    "source = \"https://arxiv.org/pdf/2408.09869\"  # document per local path or URL"
   ]
  },
  {
   "cell_type": "code",
   "execution_count": null,
   "id": "473a8ed0",
   "metadata": {},
   "outputs": [
    {
     "name": "stderr",
     "output_type": "stream",
     "text": [
      "Downloading detection model, please wait. This may take several minutes depending upon your network connection.\n",
      "Downloading recognition model, please wait. This may take several minutes depending upon your network connection.\n",
      "c:\\Users\\KannanGnanasekaran\\GIT\\crewai-basics\\.venv\\Lib\\site-packages\\huggingface_hub\\file_download.py:143: UserWarning: `huggingface_hub` cache-system uses symlinks by default to efficiently store duplicated files but your machine does not support them in C:\\Users\\KannanGnanasekaran\\.cache\\huggingface\\hub\\models--ds4sd--docling-models. Caching files will still work but in a degraded version that might require more space on your disk. This warning can be disabled by setting the `HF_HUB_DISABLE_SYMLINKS_WARNING` environment variable. For more details, see https://huggingface.co/docs/huggingface_hub/how-to-cache#limitations.\n",
      "To support symlinks on Windows, you either need to activate Developer Mode or to run Python as an administrator. In order to activate developer mode, see this article: https://docs.microsoft.com/en-us/windows/apps/get-started/enable-your-device-for-development\n",
      "  warnings.warn(message)\n"
     ]
    }
   ],
   "source": [
    "converter = DocumentConverter()\n",
    "doc = converter.convert(source).document"
   ]
  },
  {
   "cell_type": "code",
   "execution_count": null,
   "id": "9ee99eab",
   "metadata": {},
   "outputs": [],
   "source": [
    "print(doc.export_to_markdown())\n",
    "# output: ## Docling Technical Report [...]\""
   ]
  },
  {
   "cell_type": "code",
   "execution_count": 9,
   "id": "e0af3018",
   "metadata": {},
   "outputs": [],
   "source": [
    "from langchain_community.tools import DuckDuckGoSearchRun\n",
    "\n",
    "search = DuckDuckGoSearchRun(output_format=\"list\")\n",
    "\n",
    "output = search.invoke(\"22k gold rate in Chennai\")"
   ]
  },
  {
   "cell_type": "code",
   "execution_count": 10,
   "id": "06dfb4c4",
   "metadata": {},
   "outputs": [
    {
     "name": "stdout",
     "output_type": "stream",
     "text": [
      "Check today's 22K Gold rate in Chennai on India Gold Rate with historical data and more. FACEBOOK | TWITTER. HOME; GOLD RATE; SILVER RATE; PLATINUM RATE; PALLADIUM RATE; DIAMOND RATE; 22K GOLD RATE; ... 22K Gold Rate in Chennai. View 18K Gold Rate | View 24K Gold Rate. Date 22Ct / 1g 22Ct / 4g 22Ct / 8g 22Ct / 10g; 01-Jun-2025, PM: Rs. 8,920.00 ... Gold Rate in Chennai Today (1st Jun 2025): Get 18K, 22 Carat & 24 Karat gold rate in Chennai & last 10 days gold price based on rupees per gram from GoodReturns. ... 22k Gold ₹ 8,920 /gm ... Gold Rate in Chennai offers the most accurate live gold price in Chennai from jewellers, dealers and commodity exchanges in INR. ... Gold Price Today; 22kt gold price in Chennai per gram: 7,129: 24kt gold price in Chennai per gram: 7,600: Gold Price by City: 22 Carat Gold Today: 24 Carat Gold Today: City 1 gram 10 gram 1 gram Today's Gold Rate in Chennai: Latest 22 & 24 Carat Gold price in Chennai for 1g, 8g, 10g, and 100g with a 10 days historical price trend at 5paisa. ... As an illustration, the price per gram you must spend to purchase a 22K gold ring is 22K/24K*3000 = 2750. However, they always charge you more—about 5-8 percent more—because most clients don ... 22K GOLD RATE ₹8,920 Gram - ₹71,360/ 8 Gram; 24K GOLD RATE ... Convenience: Easily access today's gold rate in Chennai from the comfort of your home or office. Whether you're planning to buy or sell gold, knowing the gold rate today in Chennai empowers you to make informed decisions. Stay updated with Rate4Gold for all your gold-related ...\n"
     ]
    }
   ],
   "source": [
    "print(output)"
   ]
  }
 ],
 "metadata": {
  "kernelspec": {
   "display_name": ".venv",
   "language": "python",
   "name": "python3"
  },
  "language_info": {
   "codemirror_mode": {
    "name": "ipython",
    "version": 3
   },
   "file_extension": ".py",
   "mimetype": "text/x-python",
   "name": "python",
   "nbconvert_exporter": "python",
   "pygments_lexer": "ipython3",
   "version": "3.11.0"
  }
 },
 "nbformat": 4,
 "nbformat_minor": 5
}
